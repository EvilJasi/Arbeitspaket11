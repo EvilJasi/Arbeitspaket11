{
 "cells": [
  {
   "cell_type": "code",
   "execution_count": 1,
   "id": "ba15ee15-4ee8-4c92-bf32-d8e8773f9bd0",
   "metadata": {},
   "outputs": [],
   "source": [
    "import ipywidgets as widgets\n",
    "from ipywidgets import interactive\n",
    "from ipywidgets import Box\n",
    "\n",
    "import matplotlib.pyplot as plt\n",
    "import numpy as np\n",
    "import math\n",
    "\n",
    "from IPython.display import HTML\n",
    "from IPython.display import IFrame\n",
    "\n",
    "import builtins"
   ]
  },
  {
   "cell_type": "code",
   "execution_count": 2,
   "id": "43955565-845f-451c-970e-8ecc2e17d5d5",
   "metadata": {},
   "outputs": [
    {
     "data": {
      "application/vnd.jupyter.widget-view+json": {
       "model_id": "bb20644128544521810832e8079968c7",
       "version_major": 2,
       "version_minor": 0
      },
      "text/plain": [
       "A Jupyter Widget"
      ]
     },
     "metadata": {},
     "output_type": "display_data"
    }
   ],
   "source": [
    "file = builtins.open(\"Bilder/Logo.png\", \"rb\")\n",
    "image = file.read()\n",
    "bild_Logo = widgets.Image(\n",
    "    value=image,\n",
    "    format='png',\n",
    "    width=200,\n",
    "   #height=128,\n",
    "    )\n",
    "bild_Logo"
   ]
  },
  {
   "cell_type": "markdown",
   "id": "e05bd103-0b1e-44f5-9a4e-00e334473088",
   "metadata": {},
   "source": [
    "# <span style=\"font-family:Century Gothic;color:DarkCyan\">Arbeitspaket 11</span>\n",
    "\n",
    "## <span style=\"font-family:Century Gothic;color:DarkCyan\">Aufgabe 1</span>\n",
    "\n",
    "### <span style=\"font-family:Century Gothic;color:DarkCyan\">Aufgabe 1.1: Bedingungsloses Grundeinkommen </span>"
   ]
  },
  {
   "cell_type": "markdown",
   "id": "59ed45f4-b57a-4969-bc94-044e385637a7",
   "metadata": {},
   "source": [
    "Gegeben sei ein Individuum, das Nutzen aus Freizeit $f$ und Konsum $x$ zieht (Preis $p = 1$). Die\n",
    "Nutzenfunktion sei mit $u = u(f, x)$ gegeben. Das Individuum bietet einen prozentualen\n",
    "Anteil $l$ seines Zeitbudgets zum Lohnsatz $w = 1$ auf dem Arbeitsmarkt an."
   ]
  },
  {
   "cell_type": "markdown",
   "id": "578a73d9-fda3-4275-b4b4-902666eec58a",
   "metadata": {},
   "source": [
    "> **Welcher Ausdruck beschreibt das Zeitbudget des Individuums?**"
   ]
  },
  {
   "cell_type": "code",
   "execution_count": 3,
   "id": "e169e438-5879-4a2e-87c2-650d2f1b0d2a",
   "metadata": {},
   "outputs": [
    {
     "data": {
      "application/vnd.jupyter.widget-view+json": {
       "model_id": "012dfede37b245e998dc18ae7b106181",
       "version_major": 2,
       "version_minor": 0
      },
      "text/plain": [
       "A Jupyter Widget"
      ]
     },
     "metadata": {},
     "output_type": "display_data"
    },
    {
     "data": {
      "application/vnd.jupyter.widget-view+json": {
       "model_id": "07812954c0684ae9b31ea736f1edee2f",
       "version_major": 2,
       "version_minor": 0
      },
      "text/plain": [
       "A Jupyter Widget"
      ]
     },
     "metadata": {},
     "output_type": "display_data"
    }
   ],
   "source": [
    "opinion_MR = widgets.RadioButtons(\n",
    "    options=['F=100','l+f=1','l=f'],\n",
    "    value=None,\n",
    "    #description='Faktoren',\n",
    "    disabled=False\n",
    ")\n",
    "\n",
    "button_MR = widgets.Button(\n",
    "    description='Auswertung',\n",
    "    disabled=False,\n",
    "    button_style='', # 'success', 'info', 'warning', 'danger' or ''\n",
    "    tooltip='Bitte klicken.',\n",
    "    #icon='check' # (FontAwesome names without the `fa-` prefix)\n",
    ")\n",
    "\n",
    "# define function\n",
    "def check(button_MR):\n",
    "  if opinion_MR.value == 'l+f=1':\n",
    "    button_MR.button_style = 'success'\n",
    "    button_MR.description = 'Richtig'\n",
    "  else:\n",
    "    button_MR.button_style = 'danger'\n",
    "    button_MR.description = 'Leider Falsch'\n",
    "\n",
    "# set function as on_click on button\n",
    "button_MR.on_click(check)\n",
    "\n",
    "display(opinion_MR)\n",
    "display(button_MR)"
   ]
  },
  {
   "cell_type": "markdown",
   "id": "927c3c21-9e8c-48fe-9feb-c5e2fec70728",
   "metadata": {},
   "source": [
    "Der Staat beschließt die Einführung eines <a href=\"https://www.bpb.de/themen/medien-journalismus/netzdebatte/222285/debatte-bedingungsloses-grundeinkommen/\">bedingungslosen Grundeinkommens $G$</a>. Zusätzlich zu ihrem Arbeitseinkommen erhalten alle Individuen ab sofort ein exogen gegebenes Nicht-Arbeitseinkommen $G$.\n",
    "\n",
    "> **Skizzieren Sie die Budgetgerade des Individuums für ein Grundeinkommen von $G=25$ und $G=50$. Überprüfen Sie Ihr Ergebnis mit dem Slider.**"
   ]
  },
  {
   "cell_type": "code",
   "execution_count": 4,
   "id": "d953f015-974c-4eac-a1ad-63a10d5cbc49",
   "metadata": {},
   "outputs": [
    {
     "data": {
      "application/vnd.jupyter.widget-view+json": {
       "model_id": "7e23dd9701264f6881d43c8ece0ba370",
       "version_major": 2,
       "version_minor": 0
      },
      "text/plain": [
       "A Jupyter Widget"
      ]
     },
     "metadata": {},
     "output_type": "display_data"
    }
   ],
   "source": [
    "%matplotlib inline\n",
    "\n",
    "def f(G):\n",
    "    plt.figure(2)\n",
    "    x = np.linspace(0, 1)\n",
    "    plt.plot(x,(100+G)-100*x,color=\"Darkcyan\", alpha=0.5, linewidth=2.0)\n",
    "    plt.vlines(1, 0, G,color=\"Darkcyan\", alpha=0.5, linewidth=2.0)\n",
    "    plt.ylim(0, 200)\n",
    "    plt.xlim(0, 1.1)\n",
    "    plt.xlabel(\"Freizeit $f$\")\n",
    "    plt.margins(x=0)\n",
    "    plt.ylabel(\"Konsum $x$\")    \n",
    "    plt.show()\n",
    "\n",
    "    \n",
    "interactive_plot = interactive(f, G=widgets.IntSlider(min=0,max=100,step=5,value=0))\n",
    "output = interactive_plot.children[-1]\n",
    "interactive_plot"
   ]
  },
  {
   "cell_type": "markdown",
   "id": "0c8dd5d9-e724-4f29-8290-b4327905535a",
   "metadata": {},
   "source": [
    "> **Stellen Sie das Optimierungsproblem des Individuums auf.**"
   ]
  },
  {
   "cell_type": "code",
   "execution_count": 5,
   "id": "5ba063b3-23cf-429d-aef5-479913c732e0",
   "metadata": {},
   "outputs": [
    {
     "data": {
      "application/vnd.jupyter.widget-view+json": {
       "model_id": "b902c3c6c9e3420f92b24a6da59b4a82",
       "version_major": 2,
       "version_minor": 0
      },
      "text/plain": [
       "A Jupyter Widget"
      ]
     },
     "metadata": {},
     "output_type": "display_data"
    }
   ],
   "source": [
    "accordion1 = widgets.Accordion([\n",
    "    widgets.Label(\n",
    "        value=\"$$ wl + G = px $$\",\n",
    "        placeholder='Some LaTeX',\n",
    "        description='Some LaTeX',\n",
    "        disabled=False\n",
    "    ),\n",
    "    widgets.Label(\n",
    "        value=\"$$ \\mathcal{L} = u(f,x) + \\lambda(w(1-f) + G - px) $$\",\n",
    "        placeholder='Some LaTeX',\n",
    "        description='Some LaTeX',\n",
    "        disabled=False\n",
    "    )], selected_index=None)\n",
    "accordion1.set_title(0, 'Budgetbeschränkung')\n",
    "accordion1.set_title(1, 'Optimierungsproblem')\n",
    "\n",
    "accordion1"
   ]
  },
  {
   "cell_type": "markdown",
   "id": "4f697276-e782-4a2b-af68-eab9f0795057",
   "metadata": {},
   "source": [
    "> **Geben Sie die Optimalitätsbedingung an.**"
   ]
  },
  {
   "cell_type": "code",
   "execution_count": 6,
   "id": "57a1213f-fc80-4432-9975-ffee0a2cd5bb",
   "metadata": {},
   "outputs": [
    {
     "data": {
      "application/vnd.jupyter.widget-view+json": {
       "model_id": "6061180b6f0d4a989e621dfca5ab7c7d",
       "version_major": 2,
       "version_minor": 0
      },
      "text/plain": [
       "A Jupyter Widget"
      ]
     },
     "metadata": {},
     "output_type": "display_data"
    }
   ],
   "source": [
    "accordion2 = widgets.Accordion([\n",
    "    widgets.Label(\n",
    "        value=\"BEO 1: $$\\\\frac{\\partial \\mathcal{L}}{\\partial f}=\\\\frac{\\partial u}{\\partial f}-\\lambda w\\\\overset{!}{=}0$$ BEO 2: $$\\\\frac{\\partial\\mathcal{L}}{\\partial x}= \\\\frac{\\partial u}{\\partial x}-\\lambda p\\overset{!}{=}0$$ BEO 3: $$\\\\frac{\\partial \\mathcal {L}}{\\partial \\lambda}=w(1-f)+G-px\\overset{!}{=}0$$\",\n",
    "        placeholder='Some LaTeX',\n",
    "        description='Some LaTeX',\n",
    "        disabled=False\n",
    "    ),\n",
    "    widgets.Label(\n",
    "        value=\"$$ \\\\text{(1)}=\\\\text{(2)}:~ \\\\frac{\\partial u}{\\partial f}\\cdot\\\\frac{1}{w}=\\\\frac{\\partial u}{\\partial x}\\cdot\\\\frac{1}{p} $$\",\n",
    "        placeholder='Some LaTeX',\n",
    "        description='Some LaTeX',\n",
    "        disabled=False\n",
    "    ),\n",
    "    widgets.Label(\n",
    "        value=\"$$\\\\frac{\\\\frac{\\partial u}{\\partial f}}{\\\\frac{\\partial u}{\\partial x}}=\\\\frac{w}{p}$$\",\n",
    "        placeholder='Some LaTeX',\n",
    "        description='Some LaTeX',\n",
    "        disabled=False\n",
    "    ),\n",
    "    widgets.Label(\n",
    "        value=\"|GRS|  = relative Preise bzw. (|Steigung Indifferenzkurve|)=(|Steigung Budgetrestriktion|)\",\n",
    "        placeholder='Some LaTeX',\n",
    "        description='Some LaTeX',\n",
    "        disabled=False\n",
    "    )], selected_index=None)\n",
    "    \n",
    "accordion2.set_title(0, 'Bedingungen Erster Ordnung')\n",
    "accordion2.set_title(1, 'Gleichsetzen')\n",
    "accordion2.set_title(2, 'Optimalitätsbedingung')\n",
    "accordion2.set_title(3, 'Interpretation')\n",
    "\n",
    "accordion2"
   ]
  },
  {
   "cell_type": "markdown",
   "id": "b5831030-7f29-4aee-a235-b156570818a6",
   "metadata": {},
   "source": [
    "### <span style=\"font-family:Century Gothic;color:DarkCyan\">Aufgabe 1.2: Anrechnung Arbeitseinkommen </span>"
   ]
  },
  {
   "cell_type": "markdown",
   "id": "982e7744-7dd8-42df-9cd6-3b2939702d4d",
   "metadata": {},
   "source": [
    "Die Finanzierung des bedingungslosen Grundeinkommens erweist sich als nicht machbar. Die Regierung beschließt daher die Einführung des sogenannten Bürgergelds. Dieses Konzept sieht vor, dass Individuen ohne Arbeitseinkommen die Transferzahlung $G=60$ erhalten. Wird ein Individuum am Arbeitsmarkt aktiv, soll sein Arbeitseinkommen auf die Transferzahlung angerechnet werden. Die beiden Regierungsparteien sind sich uneinig, in welchem Ausmaß diese Anrechnung erfolgen soll. \n",
    "\n",
    "- **<span style=\"color:DarkCyan\">Partei A</span>**  möchte, dass das Arbeitseinkommen voll angerechnet wird.\n",
    "- **<span style=\"color:Maroon\">Partei B</span>** möchte, dass das Arbeitseinkommen nur zu 80% angerechnet wird.\n",
    "\n",
    "> **Skizzieren Sie den Verlauf der Budgetgeraden für die Vorschläge von <span style=\"color:DarkCyan\">Partei A</span> und <span style=\"color:Maroon\">Partei B</span> und überprüfen Sie Ihr Ergebnis im Anschluss mit Hilfe der Slider <span style=\"color:DarkCyan\">A</span> und <span style=\"color:Maroon\">B</span>.** Gehen Sie hierbei davon aus, dass das maximale Zeitbudget nun 100 Stunden beträgt. Für jede Arbeitsstunde erhält das Individuum $w=1$ und eine Einheit Konsum kostet $p=1$.\n"
   ]
  },
  {
   "cell_type": "code",
   "execution_count": 7,
   "id": "4727477f-bddb-46ed-9bf8-86b46e6c1a32",
   "metadata": {},
   "outputs": [
    {
     "data": {
      "application/vnd.jupyter.widget-view+json": {
       "model_id": "85b91793b3694119af250499e0bcddfd",
       "version_major": 2,
       "version_minor": 0
      },
      "text/plain": [
       "A Jupyter Widget"
      ]
     },
     "metadata": {},
     "output_type": "display_data"
    }
   ],
   "source": [
    "%matplotlib inline\n",
    "\n",
    "def f(A,B):\n",
    "    plt.figure(2)\n",
    "    x = np.linspace(1, 100, num=100)\n",
    "    # Funktionen ohne Steuern\n",
    "    plt.plot(x,100-x,color=\"#464646\", linestyle='dotted')\n",
    "    # Funktion mit voller Anrechnung    \n",
    "    x1 = [0,40,100]\n",
    "    y1 = [100,60,60]\n",
    "    plt.plot(A*x1,A*y1,color=\"Darkcyan\", linewidth=2.0)\n",
    "    plt.vlines(100, 0,A*60,color=\"Darkcyan\", linewidth=2.0)\n",
    "    # Funktion mit 80 Anrechnung\n",
    "    x2 = [0,25,100]\n",
    "    y2 = [100,75,60]\n",
    "    plt.plot(B*x2,B*y2,color=\"Maroon\", linewidth=2.0)\n",
    "    plt.vlines(100, 0,B*60,color=\"Maroon\", linewidth=2.0)\n",
    "    \n",
    "    # Settings\n",
    "    plt.ylim(0, 100)\n",
    "    plt.xlim(0, 110)\n",
    "    plt.xlabel(\"Freizeit $F$\")\n",
    "    plt.margins(x=0)\n",
    "    plt.ylabel(\"Konsum $x$\")    \n",
    "    plt.show()\n",
    "    \n",
    "    \n",
    "interactive_plot = interactive(f, A=(0, 1,1), B=(0, 1,1))\n",
    "output = interactive_plot.children[-1]\n",
    "interactive_plot"
   ]
  },
  {
   "cell_type": "markdown",
   "id": "c0ab4d84-7294-45a6-8f34-3180ae686bfb",
   "metadata": {},
   "source": [
    "## <span style=\"font-family:Century Gothic;color:DarkCyan\">Aufgabe 2</span>"
   ]
  },
  {
   "cell_type": "markdown",
   "id": "5f2141e1-741e-48fc-9bab-f2c1407f9a35",
   "metadata": {},
   "source": [
    "### <span style=\"font-family:Century Gothic;color:DarkCyan\">Aufgabe 2.1: Definition Rent-Seeking</span>"
   ]
  },
  {
   "cell_type": "markdown",
   "id": "36cfb41b-35e8-4239-9e24-647b93c3e81d",
   "metadata": {},
   "source": [
    "Beim Rent-Seeking beeinflusst eine (Wähler-)Gruppe die Politik so, dass sie auf Kosten der Gesamtgesellschaft Vorteile erhält. Im folgenden <a href=\"https://www.youtube.com/watch?v=95pyLE_ZsDg&t=58s\">Video</a> wird dieses Prinzip näher erläutert."
   ]
  },
  {
   "cell_type": "code",
   "execution_count": 8,
   "id": "6a699d2f-1e5c-4499-ad3e-feb13958e2fe",
   "metadata": {},
   "outputs": [
    {
     "data": {
      "text/html": [
       "\n",
       "        <iframe\n",
       "            width=\"600px\"\n",
       "            height=\"300px\"\n",
       "            src=\"https://www.youtube.com/embed/95pyLE_ZsDg\"\n",
       "            frameborder=\"0\"\n",
       "            allowfullscreen\n",
       "            \n",
       "        ></iframe>\n",
       "        "
      ],
      "text/plain": [
       "<IPython.lib.display.IFrame at 0x1e2ec07c7b8>"
      ]
     },
     "metadata": {},
     "output_type": "display_data"
    }
   ],
   "source": [
    "display(IFrame('https://www.youtube.com/embed/95pyLE_ZsDg', '600px', '300px'))"
   ]
  },
  {
   "cell_type": "markdown",
   "id": "c3ea4279-822a-41d8-bd4b-ab33e8b11d9b",
   "metadata": {},
   "source": [
    "Beim Rent-Seeking konkurrieren Unternehmen also um vorteilhalte Behandlung durch den Staat. Ein Beispiel für eine solche vorteilhafte Behandlung kann die Gewährung einer Monopolstellung sein. In Deutschland wurde diese vorteilhafte Behandlung bis 2007 beispielsweise der Deutschen Post AG gewährt: Das Unternehmen erhielt durch das im Postgesetzt verankerte <a href=\"https://www.handelsblatt.com/unternehmen/handel-konsumgueter/bundesnetzagentur-ist-skeptisch-das-briefmonopol-der-post-endet-2007/2655680.html\">Briefmonopol</a> eine Exklusivlizenz für die für den Transport von Briefsendungen bis 50 Gramm. Das Schaubild unten zeigt diese Monopolsituation im Preis-Mengen Diagramm."
   ]
  },
  {
   "cell_type": "code",
   "execution_count": 9,
   "id": "5e2f3ede-9b3a-4590-bcdb-be1a121bcc2d",
   "metadata": {},
   "outputs": [
    {
     "data": {
      "application/vnd.jupyter.widget-view+json": {
       "model_id": "16cdc6706fb543b5937c7ebabc553348",
       "version_major": 2,
       "version_minor": 0
      },
      "text/plain": [
       "A Jupyter Widget"
      ]
     },
     "metadata": {},
     "output_type": "display_data"
    }
   ],
   "source": [
    "file = builtins.open(\"Bilder/Abbildung_Monopol.jpg\", \"rb\")\n",
    "image = file.read()\n",
    "bild_Mono = widgets.Image(\n",
    "    value=image,\n",
    "    format='png',\n",
    "    width=600,\n",
    "   #height=128,\n",
    "    )\n",
    "bild_Mono"
   ]
  },
  {
   "cell_type": "markdown",
   "id": "496522b0-de52-44dd-8b09-340a4ae209fb",
   "metadata": {},
   "source": [
    "Die BW-Post würde ebenfalls gerne die Rente dieser Monopolstellung abschöpfen und konkurriert mit der Deutschen Post AG um die vorteilhafte Behandlung durch den Staat.\n",
    "\n",
    "> **Welche Fläche des Diagramms stellt die Rente dar, die durch Rent-Seeking abgeschöpft werden kann?**"
   ]
  },
  {
   "cell_type": "code",
   "execution_count": 10,
   "id": "8de73099-90b1-41fd-9cb2-037159aa239a",
   "metadata": {},
   "outputs": [
    {
     "data": {
      "application/vnd.jupyter.widget-view+json": {
       "model_id": "6066cde787fe426e8dc7994f0e2c0343",
       "version_major": 2,
       "version_minor": 0
      },
      "text/plain": [
       "A Jupyter Widget"
      ]
     },
     "metadata": {},
     "output_type": "display_data"
    },
    {
     "data": {
      "application/vnd.jupyter.widget-view+json": {
       "model_id": "6d0c3b96e7c94e96a49b8f1f262dde81",
       "version_major": 2,
       "version_minor": 0
      },
      "text/plain": [
       "A Jupyter Widget"
      ]
     },
     "metadata": {},
     "output_type": "display_data"
    }
   ],
   "source": [
    "opinion_rent = widgets.RadioButtons(\n",
    "    options=['Fläche A','Fläche B','Fläche C'],\n",
    "    value=None,\n",
    "    disabled=False\n",
    ")\n",
    "\n",
    "button_rent = widgets.Button(\n",
    "    description='Auswertung',\n",
    "    disabled=False,\n",
    "    button_style='', # 'success', 'info', 'warning', 'danger' or ''\n",
    "    tooltip='Bitte klicken.',\n",
    "    #icon='check' # (FontAwesome names without the `fa-` prefix)\n",
    ")\n",
    "\n",
    "# define function\n",
    "def check(button_rent):\n",
    "  if opinion_rent.value == 'Fläche B':\n",
    "    button_rent.button_style = 'success'\n",
    "    button_rent.description = 'Richtig'\n",
    "  else:\n",
    "    button_rent.button_style = 'danger'\n",
    "    button_rent.description = 'Leider Falsch'\n",
    "\n",
    "# set function as on_click on button\n",
    "button_rent.on_click(check)\n",
    "\n",
    "display(opinion_rent)\n",
    "display(button_rent)"
   ]
  },
  {
   "cell_type": "markdown",
   "id": "b1c591bd-4e20-49cc-8de2-3f6f4bc87002",
   "metadata": {},
   "source": [
    "Es gibt drei Kategorien, wie Rent-Seeking soziale Kosten verursachen kann:\n",
    "    \n",
    "1. Arbeitsaufwand und Ausgaben der um die staatlichen Vorteile konkurrierenden Unternehmen.\n",
    "2. Arbeitsaufwand der Beschäftigten im öffentlichen Dienst, die auf die Bemühungen der Unternehmen reagieren.\n",
    "3. Verzerrungen im Verhalten Dritter durch Rent-Seeking Aktivitäten der Unternehmen oder der staatlichen Reaktion auf diese.\n",
    "\n",
    "> **Ordnen Sie die Beispiele unten einer der drei Kategorien zu.**"
   ]
  },
  {
   "cell_type": "markdown",
   "id": "e2e939fb-823f-4682-b10a-4c984490d0c6",
   "metadata": {},
   "source": [
    "*Sowohl die Deutsche Post AG als auch die BWPOST stellen Lobbyisten ein, die bei der Regierung um den Zuschlag für das Postmonopol werben.*"
   ]
  },
  {
   "cell_type": "code",
   "execution_count": 11,
   "id": "c185925e-45af-4dbe-b59c-0245812c5b0c",
   "metadata": {},
   "outputs": [
    {
     "data": {
      "application/vnd.jupyter.widget-view+json": {
       "model_id": "3817fc254f884290aaecc30e4e33e984",
       "version_major": 2,
       "version_minor": 0
      },
      "text/plain": [
       "A Jupyter Widget"
      ]
     },
     "metadata": {},
     "output_type": "display_data"
    }
   ],
   "source": [
    "opinion_1 = widgets.Dropdown(\n",
    "    options=[('',0), ('Eins', 1), ('Zwei', 2), ('Drei', 3)],\n",
    "    value=0,\n",
    "    description='Kategorie:',\n",
    ")\n",
    "\n",
    "button_1 = widgets.Button(\n",
    "    description='Auswertung',\n",
    "    disabled=False,\n",
    "    button_style='', # 'success', 'info', 'warning', 'danger' or ''\n",
    "    tooltip='Bitte klicken.',\n",
    "    #icon='check' # (FontAwesome names without the `fa-` prefix)\n",
    ")\n",
    "# define function\n",
    "def check(button_1):\n",
    "  if opinion_1.value == 1:\n",
    "    button_1.button_style = 'success'\n",
    "    button_1.description = 'Richtig'\n",
    "  else:\n",
    "    button_1.button_style = 'danger'\n",
    "    button_1.description = 'Leider Falsch'\n",
    "\n",
    "# set function as on_click on button\n",
    "button_1.on_click(check)\n",
    "\n",
    "\n",
    "items = [opinion_1, button_1]\n",
    "box_1 = Box(children=items)\n",
    "display(box_1) # <- this one command displays all children"
   ]
  },
  {
   "cell_type": "markdown",
   "id": "22805def-b117-404e-a1fd-712c7c670367",
   "metadata": {},
   "source": [
    "*Der für den Zuschlag des Monopols zuständige Beamte erhält Zuwendungen der Unternehmen. Andere Beamt:innen investieren Arbeitsaufwand darin, alles über Briefzustellung zu lernen um eines Tages diese Position zu erhalten.*"
   ]
  },
  {
   "cell_type": "code",
   "execution_count": 12,
   "id": "d8e5d24d-8df4-47ed-9e37-f0fe83fcb145",
   "metadata": {},
   "outputs": [
    {
     "data": {
      "application/vnd.jupyter.widget-view+json": {
       "model_id": "fd67d2ad8f8f448bab8d38d13d6c85e8",
       "version_major": 2,
       "version_minor": 0
      },
      "text/plain": [
       "A Jupyter Widget"
      ]
     },
     "metadata": {},
     "output_type": "display_data"
    }
   ],
   "source": [
    "opinion_2 = widgets.Dropdown(\n",
    "    options=[('',0), ('Eins', 1), ('Zwei', 2), ('Drei', 3)],\n",
    "    value=0,\n",
    "    description='Kategorie:',\n",
    ")\n",
    "\n",
    "button_2 = widgets.Button(\n",
    "    description='Auswertung',\n",
    "    disabled=False,\n",
    "    button_style='', # 'success', 'info', 'warning', 'danger' or ''\n",
    "    tooltip='Bitte klicken.',\n",
    "    #icon='check' # (FontAwesome names without the `fa-` prefix)\n",
    ")\n",
    "# define function\n",
    "def check(button_2):\n",
    "  if opinion_2.value == 2:\n",
    "    button_2.button_style = 'success'\n",
    "    button_2.description = 'Richtig'\n",
    "  else:\n",
    "    button_2.button_style = 'danger'\n",
    "    button_2.description = 'Leider Falsch'\n",
    "\n",
    "# set function as on_click on button\n",
    "button_2.on_click(check)\n",
    "\n",
    "\n",
    "items = [opinion_2, button_2]\n",
    "box_2 = Box(children=items)\n",
    "display(box_2) # <- this one command displays all children"
   ]
  },
  {
   "cell_type": "markdown",
   "id": "abee67f3-afd3-4b26-aecc-d79558e4584d",
   "metadata": {},
   "source": [
    "*Paketzusteller sehen, dass der Staat durch das Briefmonopol Vorteile gewährt. Sie verwenden Ressourcen darauf, den Staat zur Einführung eines Paketmonopols zu bewegen.*"
   ]
  },
  {
   "cell_type": "code",
   "execution_count": 13,
   "id": "508b9e0e-b5fb-40af-ba38-a294d8aea3ec",
   "metadata": {},
   "outputs": [
    {
     "data": {
      "application/vnd.jupyter.widget-view+json": {
       "model_id": "7cd151307810478abdeb6c5bfe589ebb",
       "version_major": 2,
       "version_minor": 0
      },
      "text/plain": [
       "A Jupyter Widget"
      ]
     },
     "metadata": {},
     "output_type": "display_data"
    }
   ],
   "source": [
    "opinion_3 = widgets.Dropdown(\n",
    "    options=[('',0), ('Eins', 1), ('Zwei', 2), ('Drei', 3)],\n",
    "    value=0,\n",
    "    description='Kategorie:',\n",
    ")\n",
    "\n",
    "button_3 = widgets.Button(\n",
    "    description='Auswertung',\n",
    "    disabled=False,\n",
    "    button_style='', # 'success', 'info', 'warning', 'danger' or ''\n",
    "    tooltip='Bitte klicken.',\n",
    "    #icon='check' # (FontAwesome names without the `fa-` prefix)\n",
    ")\n",
    "# define function\n",
    "def check(button_3):\n",
    "  if opinion_3.value == 3:\n",
    "    button_3.button_style = 'success'\n",
    "    button_3.description = 'Richtig'\n",
    "  else:\n",
    "    button_3.button_style = 'danger'\n",
    "    button_3.description = 'Leider Falsch'\n",
    "\n",
    "# set function as on_click on button\n",
    "button_3.on_click(check)\n",
    "\n",
    "\n",
    "items = [opinion_3, button_3]\n",
    "box_3 = Box(children=items)\n",
    "display(box_3) # <- this one command displays all children"
   ]
  },
  {
   "cell_type": "markdown",
   "id": "f688f691-af12-4f16-a660-ce2cdeec37ab",
   "metadata": {},
   "source": [
    "### <span style=\"font-family:Century Gothic;color:DarkCyan\">Aufgabe 2.2: Rent-Seeking Modell</span>"
   ]
  },
  {
   "cell_type": "markdown",
   "id": "21858906-044c-4667-8e19-fe7b373c8e97",
   "metadata": {},
   "source": [
    "Wir betrachten nun ein repräsentatives Unternehmen, das entscheidet, wie viel Investitionen $I$ in Rent-Seeking Aktivitäten fließen sollen. Der Ertrag des Investments $I$ wird hierbei durch $f(I)=I^r$ gegeben.\n",
    "\n",
    "> **Skizzieren Sie den Verlauf der Funktion $f(I)$ für den Fall von (i) konstanten, (ii) steigenden und (ii) fallenden Skalenerträgen. Verifizieren Sie Ihr Ergebnis im Anschluss mit dem Slider.**"
   ]
  },
  {
   "cell_type": "code",
   "execution_count": 14,
   "id": "26667741-33a2-4e2f-b081-e64a75437365",
   "metadata": {},
   "outputs": [
    {
     "data": {
      "application/vnd.jupyter.widget-view+json": {
       "model_id": "3aaa4fd9566b422f8a47e542bd85da49",
       "version_major": 2,
       "version_minor": 0
      },
      "text/plain": [
       "A Jupyter Widget"
      ]
     },
     "metadata": {},
     "output_type": "display_data"
    }
   ],
   "source": [
    "%matplotlib inline\n",
    "\n",
    "def f(r):\n",
    "    plt.figure(2)\n",
    "    x = np.linspace(0, 1000)\n",
    "    plt.plot(x,x**r,color=\"Darkcyan\", alpha=0.5, linewidth=2.0)\n",
    "    plt.ylim(0, 1000)\n",
    "    plt.xlim(0, 1000)\n",
    "    plt.xlabel(\"Investment $I$\")\n",
    "    plt.margins(x=0)\n",
    "    plt.ylabel(\"Ertrag des Investments $f(I)$\")    \n",
    "    plt.show()\n",
    "\n",
    "    \n",
    "interactive_plot = interactive(f, r=(0, 2, 0.1))\n",
    "output = interactive_plot.children[-1]\n",
    "interactive_plot"
   ]
  },
  {
   "cell_type": "markdown",
   "id": "60a7126d-db48-4471-a44a-9c0441581805",
   "metadata": {},
   "source": [
    "Die Wahrscheinlichkeit $\\pi_i$, dass das Investment in Rent-Seeking Aktivitäten die gewünschten staatlichen Vorteile $R$ bringt hängt vom eigenen Investment $I_i$ sowie von den Investments der anderen Markteilnehmer $T$ ab. Insgesamt gibt es $n$ Marktteilnehmer.\n",
    "\n",
    "$$ \\pi_i (I_i) = \\frac{I^r_i}{\\sum_{j=1}^n I^r_j} = \\frac{I^r_i}{I^r_i+T} $$\n",
    "\n",
    "Der erwartete Nutzen des Investments für jeden Markteilnehmer ergibt sich also durch\n",
    "\n",
    "$$ E(I) = \\left( \\frac{I^r}{I^r+T}\\right) R - I $$\n",
    "\n",
    "Wir gehen davon aus, dass jeder der $n$ Marktteilnehmer im Gleichgewicht dieselbe Menge an Ressourcen investiert, das bedeutet\n",
    "\n",
    "$$I^r+T = nI^r$$\n",
    "\n",
    "> **Bestimmen sie die optimale Höher der Investition $I$.**"
   ]
  },
  {
   "cell_type": "code",
   "execution_count": 15,
   "id": "bd8953af-1f5d-4f16-9be3-602a8c414f2a",
   "metadata": {},
   "outputs": [
    {
     "data": {
      "application/vnd.jupyter.widget-view+json": {
       "model_id": "e8336bc0d9144d36b4498bdc5e7b0dcb",
       "version_major": 2,
       "version_minor": 0
      },
      "text/plain": [
       "A Jupyter Widget"
      ]
     },
     "metadata": {},
     "output_type": "display_data"
    }
   ],
   "source": [
    "accordion = widgets.Accordion([\n",
    "    widgets.Label(\n",
    "        value=\"Hinweis: Verwenden Sie die Quotientenregel. $$  \\\\frac{\\partial E(I)}{\\partial I} = \\\\frac{rI^{r-1}(I^r+T)-I^rrI^{r-1}}{(I^r+T)^2} \\\\cdot R -1 =0$$\",\n",
    "        placeholder='Some LaTeX',\n",
    "        description='Some LaTeX',\n",
    "        disabled=False\n",
    "    ),\n",
    "    widgets.Label(\n",
    "        value=\"$$  \\\\frac{I^{r-1}(I^r+T)-I^{2r-1}}{(I^r+T)^2} \\\\cdot rR =1$$\",\n",
    "        placeholder='Some LaTeX',\n",
    "        description='Some LaTeX',\n",
    "        disabled=False\n",
    "    ),\n",
    "    widgets.Label(\n",
    "        value=\"Einsetzen von $(I^r+T) = nI^r$: $$\\\\frac{(n-1)I^{2r-1}}{n^2I^{2r}} = \\\\frac{1}{rR}$$ Umformen $$\\\\frac{(n-1)}{n^2} \\\\frac{1}{I} = \\\\frac{1}{rR}$$\",\n",
    "        placeholder='Some LaTeX',\n",
    "        description='Some LaTeX',\n",
    "        disabled=False\n",
    "    ),\n",
    "    widgets.Label(\n",
    "        value=\"$$ I = \\\\frac{n-1}{n^2} \\\\cdot rR$$\",\n",
    "        placeholder='Some LaTeX',\n",
    "        description='Some LaTeX',\n",
    "        disabled=False\n",
    "    )], selected_index=None)\n",
    "accordion.set_title(0, 'Ableitung')\n",
    "accordion.set_title(1, 'Auflösen: Schritt 1')\n",
    "accordion.set_title(2, 'Auflösen: Schritt 2')\n",
    "accordion.set_title(3, 'Ergebnis')\n",
    "\n",
    "accordion"
   ]
  },
  {
   "cell_type": "markdown",
   "id": "0f48c6cb-2dcf-4164-9fc3-893c134fdb2d",
   "metadata": {},
   "source": [
    "> **Wie verändert sich die Höhe der Investition?**\n",
    "\n",
    "*Wenn die Anzahl der Markteilnehmer steigt, wird die Investition ...*"
   ]
  },
  {
   "cell_type": "code",
   "execution_count": 16,
   "id": "81758a61-bc83-4c64-96c3-4cf8d218dab7",
   "metadata": {},
   "outputs": [
    {
     "data": {
      "application/vnd.jupyter.widget-view+json": {
       "model_id": "3580fb90871c401b8ca812cfbeb79ac6",
       "version_major": 2,
       "version_minor": 0
      },
      "text/plain": [
       "A Jupyter Widget"
      ]
     },
     "metadata": {},
     "output_type": "display_data"
    }
   ],
   "source": [
    "opinion_4 = widgets.Dropdown(\n",
    "    options=[('steigen', 1), ('sinken', 2), ('', 3)],\n",
    "    value=3,\n",
    ")\n",
    "\n",
    "button_4 = widgets.Button(\n",
    "    description='Auswertung',\n",
    "    disabled=False,\n",
    "    button_style='', # 'success', 'info', 'warning', 'danger' or ''\n",
    "    tooltip='Bitte klicken.',\n",
    "    #icon='check' # (FontAwesome names without the `fa-` prefix)\n",
    ")\n",
    "# define function\n",
    "def check(button_4):\n",
    "  if opinion_4.value == 2:\n",
    "    button_4.button_style = 'success'\n",
    "    button_4.description = 'Richtig'\n",
    "  else:\n",
    "    button_4.button_style = 'danger'\n",
    "    button_4.description = 'Leider Falsch'\n",
    "\n",
    "# set function as on_click on button\n",
    "button_4.on_click(check)\n",
    "\n",
    "\n",
    "items = [opinion_4, button_4]\n",
    "box_4 = Box(children=items)\n",
    "display(box_4) # <- this one command displays all children"
   ]
  },
  {
   "cell_type": "markdown",
   "id": "bb3a4ec0-c443-4f31-ac10-9368db72beae",
   "metadata": {},
   "source": [
    "*Wenn die Höhe der erzielbaren Rente steigt, wird die Investition ...*"
   ]
  },
  {
   "cell_type": "code",
   "execution_count": 17,
   "id": "afa8a75a-2338-4702-8119-af7c0f4cc879",
   "metadata": {},
   "outputs": [
    {
     "data": {
      "application/vnd.jupyter.widget-view+json": {
       "model_id": "6a758f9af50f430dbdcccda5816733eb",
       "version_major": 2,
       "version_minor": 0
      },
      "text/plain": [
       "A Jupyter Widget"
      ]
     },
     "metadata": {},
     "output_type": "display_data"
    }
   ],
   "source": [
    "opinion_5 = widgets.Dropdown(\n",
    "    options=[('steigen', 1), ('sinken', 2), ('', 3)],\n",
    "    value=3,\n",
    ")\n",
    "\n",
    "button_5 = widgets.Button(\n",
    "    description='Auswertung',\n",
    "    disabled=False,\n",
    "    button_style='', # 'success', 'info', 'warning', 'danger' or ''\n",
    "    tooltip='Bitte klicken.',\n",
    "    #icon='check' # (FontAwesome names without the `fa-` prefix)\n",
    ")\n",
    "# define function\n",
    "def check(button_5):\n",
    "  if opinion_5.value == 1:\n",
    "    button_5.button_style = 'success'\n",
    "    button_5.description = 'Richtig'\n",
    "  else:\n",
    "    button_5.button_style = 'danger'\n",
    "    button_5.description = 'Leider Falsch'\n",
    "\n",
    "# set function as on_click on button\n",
    "button_5.on_click(check)\n",
    "\n",
    "\n",
    "items = [opinion_5, button_5]\n",
    "box_5 = Box(children=items)\n",
    "display(box_5) # <- this one command displays all children"
   ]
  }
 ],
 "metadata": {
  "kernelspec": {
   "display_name": "Python 3 (ipykernel)",
   "language": "python",
   "name": "python3"
  },
  "language_info": {
   "codemirror_mode": {
    "name": "ipython",
    "version": 3
   },
   "file_extension": ".py",
   "mimetype": "text/x-python",
   "name": "python",
   "nbconvert_exporter": "python",
   "pygments_lexer": "ipython3",
   "version": "3.7.3"
  }
 },
 "nbformat": 4,
 "nbformat_minor": 5
}
